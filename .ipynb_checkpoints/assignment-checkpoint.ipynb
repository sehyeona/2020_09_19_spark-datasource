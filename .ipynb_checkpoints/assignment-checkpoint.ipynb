{
 "cells": [
  {
   "cell_type": "markdown",
   "metadata": {},
   "source": [
    "# 9/19 DE 팀 과제 스크립트\n",
    "## 이번 과제는 csv/parquet, spark/pandas 의 성능 비교 입니다."
   ]
  },
  {
   "cell_type": "code",
   "execution_count": 31,
   "metadata": {},
   "outputs": [
    {
     "data": {
      "text/html": [
       "\n",
       "        <div>\n",
       "            <p><b>SparkContext</b></p>\n",
       "\n",
       "            <p><a href=\"http://ip-172-31-18-108.ec2.internal:4040\">Spark UI</a></p>\n",
       "\n",
       "            <dl>\n",
       "              <dt>Version</dt>\n",
       "                <dd><code>v2.3.4</code></dd>\n",
       "              <dt>Master</dt>\n",
       "                <dd><code>local[*]</code></dd>\n",
       "              <dt>AppName</dt>\n",
       "                <dd><code>PySparkShell</code></dd>\n",
       "            </dl>\n",
       "        </div>\n",
       "        "
      ],
      "text/plain": [
       "<SparkContext master=local[*] appName=PySparkShell>"
      ]
     },
     "execution_count": 31,
     "metadata": {},
     "output_type": "execute_result"
    }
   ],
   "source": [
    "sc"
   ]
  },
  {
   "cell_type": "markdown",
   "metadata": {},
   "source": [
    "# apache arrow\n",
    "## apache arrow를 이용하여 csv 를 parquet file로 변환하기\n",
    "https://arrow.apache.org/"
   ]
  },
  {
   "cell_type": "code",
   "execution_count": 32,
   "metadata": {},
   "outputs": [],
   "source": [
    "import pyarrow\n",
    "import pandas as pd\n",
    "from pyarrow import csv, parquet"
   ]
  },
  {
   "cell_type": "code",
   "execution_count": 33,
   "metadata": {},
   "outputs": [],
   "source": [
    "exhibition_pd_df = pd.read_csv(\"./data/artfacts_exhibitions.csv\")"
   ]
  },
  {
   "cell_type": "code",
   "execution_count": 34,
   "metadata": {},
   "outputs": [
    {
     "data": {
      "text/html": [
       "<div>\n",
       "<style scoped>\n",
       "    .dataframe tbody tr th:only-of-type {\n",
       "        vertical-align: middle;\n",
       "    }\n",
       "\n",
       "    .dataframe tbody tr th {\n",
       "        vertical-align: top;\n",
       "    }\n",
       "\n",
       "    .dataframe thead th {\n",
       "        text-align: right;\n",
       "    }\n",
       "</style>\n",
       "<table border=\"1\" class=\"dataframe\">\n",
       "  <thead>\n",
       "    <tr style=\"text-align: right;\">\n",
       "      <th></th>\n",
       "      <th>id</th>\n",
       "      <th>type</th>\n",
       "      <th>title</th>\n",
       "      <th>city</th>\n",
       "      <th>country</th>\n",
       "      <th>institution</th>\n",
       "      <th>begin_date</th>\n",
       "      <th>end_date</th>\n",
       "      <th>artists</th>\n",
       "      <th>curators</th>\n",
       "    </tr>\n",
       "  </thead>\n",
       "  <tbody>\n",
       "    <tr>\n",
       "      <th>0</th>\n",
       "      <td>2</td>\n",
       "      <td>G</td>\n",
       "      <td>Adapted Land</td>\n",
       "      <td>87.0</td>\n",
       "      <td>2.0</td>\n",
       "      <td>4.0</td>\n",
       "      <td>1999-04-13</td>\n",
       "      <td>1999-05-10</td>\n",
       "      <td>[{\"id\": \"45\", \"name\": \"Wolf Vostell\"}, {\"id\": ...</td>\n",
       "      <td>NaN</td>\n",
       "    </tr>\n",
       "    <tr>\n",
       "      <th>1</th>\n",
       "      <td>3</td>\n",
       "      <td>S</td>\n",
       "      <td>Katharina Grosse</td>\n",
       "      <td>24.0</td>\n",
       "      <td>1.0</td>\n",
       "      <td>47.0</td>\n",
       "      <td>1999-03-06</td>\n",
       "      <td>1999-04-24</td>\n",
       "      <td>[{\"id\": \"112\", \"name\": \"Katharina Grosse\"}]</td>\n",
       "      <td>NaN</td>\n",
       "    </tr>\n",
       "    <tr>\n",
       "      <th>2</th>\n",
       "      <td>4</td>\n",
       "      <td>G</td>\n",
       "      <td>10 Jahre Galerie Schwind - Bilder und Skulpturen</td>\n",
       "      <td>30.0</td>\n",
       "      <td>1.0</td>\n",
       "      <td>293.0</td>\n",
       "      <td>1999-03-07</td>\n",
       "      <td>1999-04-14</td>\n",
       "      <td>[{\"id\": \"152\", \"name\": \"Wieland F\\u00f6rster\"}...</td>\n",
       "      <td>NaN</td>\n",
       "    </tr>\n",
       "    <tr>\n",
       "      <th>3</th>\n",
       "      <td>5</td>\n",
       "      <td>S</td>\n",
       "      <td>Ann Reder - Plastiken und Arbeiten auf Papier</td>\n",
       "      <td>30.0</td>\n",
       "      <td>1.0</td>\n",
       "      <td>308.0</td>\n",
       "      <td>1999-03-13</td>\n",
       "      <td>1999-04-30</td>\n",
       "      <td>[{\"id\": \"3151\", \"name\": \"Ann Reder\"}]</td>\n",
       "      <td>NaN</td>\n",
       "    </tr>\n",
       "    <tr>\n",
       "      <th>4</th>\n",
       "      <td>6</td>\n",
       "      <td>S</td>\n",
       "      <td>Kay  Hassan - Konstruktive Collagen</td>\n",
       "      <td>44.0</td>\n",
       "      <td>1.0</td>\n",
       "      <td>307.0</td>\n",
       "      <td>1999-03-13</td>\n",
       "      <td>1999-04-27</td>\n",
       "      <td>[{\"id\": \"3152\", \"name\": \"Kay Hassan\"}]</td>\n",
       "      <td>NaN</td>\n",
       "    </tr>\n",
       "  </tbody>\n",
       "</table>\n",
       "</div>"
      ],
      "text/plain": [
       "   id type                                             title  city  country  \\\n",
       "0   2    G                                      Adapted Land  87.0      2.0   \n",
       "1   3    S                                  Katharina Grosse  24.0      1.0   \n",
       "2   4    G  10 Jahre Galerie Schwind - Bilder und Skulpturen  30.0      1.0   \n",
       "3   5    S     Ann Reder - Plastiken und Arbeiten auf Papier  30.0      1.0   \n",
       "4   6    S               Kay  Hassan - Konstruktive Collagen  44.0      1.0   \n",
       "\n",
       "   institution  begin_date    end_date  \\\n",
       "0          4.0  1999-04-13  1999-05-10   \n",
       "1         47.0  1999-03-06  1999-04-24   \n",
       "2        293.0  1999-03-07  1999-04-14   \n",
       "3        308.0  1999-03-13  1999-04-30   \n",
       "4        307.0  1999-03-13  1999-04-27   \n",
       "\n",
       "                                             artists curators  \n",
       "0  [{\"id\": \"45\", \"name\": \"Wolf Vostell\"}, {\"id\": ...      NaN  \n",
       "1        [{\"id\": \"112\", \"name\": \"Katharina Grosse\"}]      NaN  \n",
       "2  [{\"id\": \"152\", \"name\": \"Wieland F\\u00f6rster\"}...      NaN  \n",
       "3              [{\"id\": \"3151\", \"name\": \"Ann Reder\"}]      NaN  \n",
       "4             [{\"id\": \"3152\", \"name\": \"Kay Hassan\"}]      NaN  "
      ]
     },
     "execution_count": 34,
     "metadata": {},
     "output_type": "execute_result"
    }
   ],
   "source": [
    "exhibition_pd_df.head()"
   ]
  },
  {
   "cell_type": "markdown",
   "metadata": {},
   "source": [
    "#### parquet은 정형 데이터 타입입니다 따라서 스키마를 지정해서 저장을 해줘야합니다.\n",
    "#### csv를 읽어서 column에 대한 간단한 정보를 확인했으니, parquet로 변환할때 필요한 스키마를 지정해 줍니다\n",
    "\n",
    "위 데이터는 artfacts 라는 사이트의 exhibition를 크롤링한 데이터입니다. artfacts는 전세계 화가에 대한 정보 제공하고 있는 사이트 입니다.\n",
    "\n",
    "* id: 전시회의 고유 아이디\n",
    "* type: 전시회의 타입 (S: 솔로 전시회, G: 그룹 전시회, B: 비엔날레 등등)\n",
    "* city: 전시회가 열린 도시의 아이디 \n",
    "* institution: 전시회의 아이디\n",
    "* begin_date: 전시회 시작 날짜 \n",
    "* end_date: 전시회 종료 날짜\n",
    "* artist: 참여한 화가에 대한 정보\n",
    "* curators: 전시회를 담당한 큐레이터의 정보\n",
    "\n",
    "### artfacts_exhibition.csv 의 용량은 244mb 정도이고 row 개수는 80만개 정도로 작은 데이터는 아닙니다.  "
   ]
  },
  {
   "cell_type": "markdown",
   "metadata": {},
   "source": [
    "#### 1) csv에서 읽은 데이터를 parquet로 변형하는 과정에서 필요한 스키마를 지정해 줍니다!"
   ]
  },
  {
   "cell_type": "code",
   "execution_count": 35,
   "metadata": {},
   "outputs": [],
   "source": [
    "Schema = {\n",
    "    \"id\": pyarrow.int32(),\n",
    "    \"type\":pyarrow.string(),\n",
    "    \"title\":pyarrow.string(),\n",
    "    \"city\":pyarrow.int32(),\n",
    "    \"country\":pyarrow.int32(),\n",
    "    \"institution\":pyarrow.int32(),\n",
    "    \"begin_date\":pyarrow.date32(),\n",
    "    \"end_date\":pyarrow.date32(),\n",
    "    \"artists\":pyarrow.string(),\n",
    "    \"curators\":pyarrow.string(),\n",
    "}"
   ]
  },
  {
   "attachments": {
    "image.png": {
     "image/png": "[encoded data removed]"
    }
   },
   "cell_type": "markdown",
   "metadata": {},
   "source": [
    "#### 2) 컬럼명과 타입을 연결하는 pyarrow field 객체를 생성해 주는 함수를 작성합니다.\n",
    "\n",
    "아래는 pyarrow 공식 도큐에 나온 함수 설명입니다\n",
    "![image.png](attachment:image.png)"
   ]
  },
  {
   "cell_type": "code",
   "execution_count": 36,
   "metadata": {},
   "outputs": [],
   "source": [
    "def field_mapper(column_name: str):\n",
    "    return pyarrow.field(column_name, Schema[column_name])"
   ]
  },
  {
   "cell_type": "markdown",
   "metadata": {},
   "source": [
    "#### 3) 위에서 생성한 field_mapper 함수를 이용해 parquet_table에 schema를 부여해주는 함수를 작성합니다.\n",
    "파퀘 테이블을 인자로 받아 컬럼을 꺼내고 각 컬럼에 대해 타입을 매핑한 필드를 모아 스키마를 작성합니다\n"
   ]
  },
  {
   "cell_type": "code",
   "execution_count": 37,
   "metadata": {},
   "outputs": [],
   "source": [
    "def generate_schema(parquet_table):\n",
    "    fields = []\n",
    "    for column_name in parquet_table.schema:\n",
    "        column = column_name.name\n",
    "        fields.append(field_mapper(column))\n",
    "    return pyarrow.schema(fields)"
   ]
  },
  {
   "cell_type": "markdown",
   "metadata": {},
   "source": [
    "#### 4) pyarrow를 이용하여 csv 파일을 테이블 객체로 읽어옵니다. 이후 저희가 만든 스키마로 값들을 던지도록 할게요  "
   ]
  },
  {
   "cell_type": "code",
   "execution_count": 38,
   "metadata": {},
   "outputs": [],
   "source": [
    "csv_table = csv.read_csv(\"./data/artfacts_exhibitions.csv\")\n",
    "csv_table = csv_table.cast(generate_schema(csv_table))"
   ]
  },
  {
   "cell_type": "markdown",
   "metadata": {},
   "source": [
    "#### 5) 위의 과정을 통해 csv에 schema를 부여하고 parquet로 저장할 준비가 끝났습니다\n",
    "#### pyarrow 의 parquet를 이용해 위의 csv_table을 parquet파일로 저장하겠습니다."
   ]
  },
  {
   "cell_type": "code",
   "execution_count": 39,
   "metadata": {},
   "outputs": [],
   "source": [
    "parquet.write_table(csv_table, \"./data/artfacts_exhibitions\", compression=\"snappy\")"
   ]
  },
  {
   "cell_type": "markdown",
   "metadata": {},
   "source": [
    "#### 6) parquet 과 csv에서 만들어온 임시테이블을 이용하야 똑같은 쿼리를 사용하여 성능 비교"
   ]
  },
  {
   "cell_type": "markdown",
   "metadata": {},
   "source": [
    "csv와 parquet 에서 각각 데이터를 읽어와 스파크 임시 테이블로 지정   \n",
    "왜 임시테이블이라고 할까? 실제로 연산이 일어나기 전까지 데이터를 읽어오지 않습니다\n",
    "### 이유는 스파크의 지연연산!!\n",
    "load부분에 데이터가 저장된 올바른 경로를 지정해 줍니다"
   ]
  },
  {
   "cell_type": "code",
   "execution_count": 40,
   "metadata": {},
   "outputs": [],
   "source": [
    "spark.read.format(\"csv\")\\\n",
    ".option(\"header\",\"true\")\\\n",
    ".load(\"file:///home/ubuntu/ybigta/2020_09_19_spark-datasource/data/artfacts_exhibitions.csv\")\\\n",
    ".registerTempTable(\"exhibitions_csv\")\n",
    "\n",
    "spark.read.format(\"parquet\")\\\n",
    ".load(\"file:///home/ubuntu/ybigta/2020_09_19_spark-datasource/data/artfacts_exhibitions\")\\\n",
    ".registerTempTable(\"exhibitions_parquet\")"
   ]
  },
  {
   "cell_type": "markdown",
   "metadata": {},
   "source": [
    "#### 6-1) 각 함수의 시간을 비교하기 위해 파이썬 데코레이터를 활용해 봅시다! \n",
    "데코레이터는 파이썬 고급 문법중 하나로서 잘 활용한다면 중복되는 코드를 상당히 줄일 수 있습니다. \n",
    "간단하게 함수를 인자로 받아 그 함수를 데코레이팅 즉 꾸며두는 역할을 합니다"
   ]
  },
  {
   "cell_type": "markdown",
   "metadata": {},
   "source": [
    "아래는 artfacts exhibition 정보를 국가, 도시, 타입 별로 몇번 전시회가 일어났는지에 대한 테이블을 만들고, top5를 보여주는 함수입니다."
   ]
  },
  {
   "cell_type": "code",
   "execution_count": 41,
   "metadata": {},
   "outputs": [],
   "source": [
    "from functools import wraps\n",
    "import time\n",
    "def loading_time(func):\n",
    "    @wraps(func)\n",
    "    def wrapper(*args, **kwargs):\n",
    "        start = time.time()\n",
    "        result = func(*args, **kwargs)\n",
    "        end = time.time()\n",
    "        print(f\"function[{func.__name__}] : {end - start} S\")\n",
    "        return result\n",
    "    return wrapper "
   ]
  },
  {
   "cell_type": "code",
   "execution_count": 42,
   "metadata": {},
   "outputs": [],
   "source": [
    "@loading_time\n",
    "def group_by_test_csv():\n",
    "    df = spark.sql(\"\"\"\n",
    "    SELECT country, city, type, count(id)\n",
    "    FROM exhibitions_csv \n",
    "    GROUP BY 1, 2, 3\n",
    "    ORDER BY 4 DESC\n",
    "    \"\"\")\n",
    "    df.show(5)"
   ]
  },
  {
   "cell_type": "code",
   "execution_count": 43,
   "metadata": {},
   "outputs": [],
   "source": [
    "@loading_time\n",
    "def group_by_test_parquet():\n",
    "    df = spark.sql(\"\"\"\n",
    "    SELECT country, city, type, count(id)\n",
    "    FROM exhibitions_parquet \n",
    "    GROUP BY 1, 2, 3\n",
    "    ORDER BY 4 DESC\n",
    "    \"\"\")\n",
    "    df.show(5)"
   ]
  },
  {
   "cell_type": "code",
   "execution_count": 44,
   "metadata": {},
   "outputs": [
    {
     "name": "stdout",
     "output_type": "stream",
     "text": [
      "+-------+----+----+---------+\n",
      "|country|city|type|count(id)|\n",
      "+-------+----+----+---------+\n",
      "|   18.0|59.0|   S|    45530|\n",
      "|    1.0|12.0|   S|    21520|\n",
      "|   14.0| 2.0|   S|    20104|\n",
      "|   15.0|63.0|   S|    18924|\n",
      "|   18.0|59.0|   G|    17282|\n",
      "+-------+----+----+---------+\n",
      "only showing top 5 rows\n",
      "\n",
      "function[group_by_test_csv] : 8.22805905342102 S\n"
     ]
    }
   ],
   "source": [
    "group_by_test_csv()"
   ]
  },
  {
   "cell_type": "code",
   "execution_count": 45,
   "metadata": {},
   "outputs": [
    {
     "name": "stdout",
     "output_type": "stream",
     "text": [
      "+-------+----+----+---------+\n",
      "|country|city|type|count(id)|\n",
      "+-------+----+----+---------+\n",
      "|     18|  59|   S|    49745|\n",
      "|      1|  12|   S|    24142|\n",
      "|     14|   2|   S|    21756|\n",
      "|     15|  63|   S|    20639|\n",
      "|     18|  59|   G|    18874|\n",
      "+-------+----+----+---------+\n",
      "only showing top 5 rows\n",
      "\n",
      "function[group_by_test_parquet] : 1.3913815021514893 S\n"
     ]
    }
   ],
   "source": [
    "group_by_test_parquet()"
   ]
  },
  {
   "cell_type": "markdown",
   "metadata": {},
   "source": [
    "스파크에서 파퀘를 이용했을때 1/4이하로 시간이 줄어드는 것을 확인할 수 있습니다.  \n",
    "물론 row 단위로 작업을 해야하는 몇몇 작업들에 대해서는 큰 성능의 향상을 기대하기 힘들 수 있고, 또한 오히려 악화 될 수 도 있습니다."
   ]
  },
  {
   "cell_type": "markdown",
   "metadata": {},
   "source": [
    "### 과제1: apache arrow에 대해서 간단하게 정리하기\n",
    "### 과제2: data 폴더에 있는 nation.csv파일을 parquet 파일로 변형해서 저장하기"
   ]
  },
  {
   "cell_type": "code",
   "execution_count": 16,
   "metadata": {},
   "outputs": [],
   "source": [
    "#### 코드를 작성해서 진행해주세요 ~ "
   ]
  }
 ],
 "metadata": {
  "kernelspec": {
   "display_name": "Python 3",
   "language": "python",
   "name": "python3"
  },
  "language_info": {
   "codemirror_mode": {
    "name": "ipython",
    "version": 3
   },
   "file_extension": ".py",
   "mimetype": "text/x-python",
   "name": "python",
   "nbconvert_exporter": "python",
   "pygments_lexer": "ipython3",
   "version": "3.7.0"
  }
 },
 "nbformat": 4,
 "nbformat_minor": 2
}
